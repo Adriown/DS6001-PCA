{
 "cells": [
  {
   "cell_type": "markdown",
   "metadata": {},
   "source": [
    "### In-Class Exercise 1: Load the clean communitiy crime data\n",
    "\n",
    "- Create a dataframe for predictor and response variables\n",
    "- Scale the predictor variables as done in Feature Engineering 1 - Principal Components\n"
   ]
  },
  {
   "cell_type": "code",
   "execution_count": null,
   "metadata": {},
   "outputs": [],
   "source": [
    "from sklearn.manifold import TSNE\n",
    "\n",
    "# Data processing and functions\n",
    "import pandas as pd\n",
    "import numpy as np\n",
    "import scipy as sp\n",
    "\n",
    "# Analytics and modeling\n",
    "from sklearn.cross_validation import train_test_split\n",
    "from sklearn.metrics import mean_squared_error\n",
    "from sklearn.model_selection import cross_val_predict\n",
    "from sklearn import linear_model\n",
    "from sklearn.model_selection import cross_val_score\n",
    "from sklearn.decomposition import PCA\n",
    "from sklearn.preprocessing import MinMaxScaler\n",
    "from sklearn import manifold\n",
    "from sklearn.feature_selection import SelectKBest, f_regression\n",
    "from sklearn.pipeline import make_pipeline\n",
    "import statsmodels.api as sm\n",
    "import statsmodels.sandbox.tools.tools_pca as sm_pca\n",
    "from statsmodels.formula.api import ols as sm_ols\n",
    "from statsmodels.stats.anova import anova_lm as sm_anova\n",
    "from patsy.contrasts import Treatment\n",
    "from patsy import dmatrices\n",
    "\n",
    "# Graphing and visualizing\n",
    "import seaborn as sns\n",
    "import matplotlib as mpl\n",
    "import matplotlib.pyplot as plt\n",
    "import matplotlib.colors as colors\n",
    "from matplotlib import cm\n",
    "from pylab import savefig\n",
    "\n",
    "# Setting graphing preferences\n",
    "sns.set(style=\"darkgrid\", color_codes=True)\n",
    "\n",
    "# Printing\n",
    "import locale\n",
    "\n",
    "# Show plots locally\n",
    "locale.setlocale( locale.LC_ALL, '' )\n",
    "\n",
    "%matplotlib inline"
   ]
  },
  {
   "cell_type": "code",
   "execution_count": null,
   "metadata": {},
   "outputs": [],
   "source": [
    "# Load our data\n",
    "path = \"/Users/mead/Fall2017/DonBrown-DS6001/FeatureEngineering/\"\n",
    "\n",
    "file = \"CrimeDataClean.csv\"\n",
    "\n",
    "label = \"CrimeVariableLabels.txt\"\n",
    "\n",
    "# DATA\n",
    "crime_df_clean = pd.read_csv(path + file, low_memory = False)"
   ]
  },
  {
   "cell_type": "code",
   "execution_count": null,
   "metadata": {
    "collapsed": true
   },
   "outputs": [],
   "source": [
    "# Divide up into predictors and responses\n",
    "predictors = crime_df_clean.columns[:101]\n",
    "response = crime_df_clean.columns[102:]"
   ]
  },
  {
   "cell_type": "code",
   "execution_count": null,
   "metadata": {
    "collapsed": true
   },
   "outputs": [],
   "source": [
    "# Standardize by removing the raw crime counts (want just PerPop)\n",
    "response_start = crime_df_clean.columns.get_loc('murders')\n",
    "# Just using pattern information to extract these columns more easily\n",
    "cols = list(range(response_start + 1, 118, 2))\n",
    "cols.extend([118,119])"
   ]
  },
  {
   "cell_type": "code",
   "execution_count": null,
   "metadata": {},
   "outputs": [],
   "source": [
    "# Get response df\n",
    "crime_resp_df = crime_df_clean[crime_df_clean.columns[cols]]\n",
    "\n",
    "# Get the predicted df\n",
    "crime_pred_df = crime_df_clean.loc[:, :'LemasPctOfficDrugUn']\n",
    "crime_pred_df.shape"
   ]
  },
  {
   "cell_type": "code",
   "execution_count": null,
   "metadata": {},
   "outputs": [],
   "source": [
    "# Pick the columns we need to scale\n",
    "crime_pred_df.describe()\n",
    "# Some of these are percentages; only need to scale the one with ranges \n",
    "\n",
    "preds2scale = crime_pred_df.columns[crime_pred_df.apply('max', axis = 0) > 1000]\n",
    "print(preds2scale)\n",
    "preds2notscale = crime_pred_df.columns[crime_pred_df.apply('max', axis = 0) < 1000]\n",
    "print(preds2notscale)"
   ]
  },
  {
   "cell_type": "code",
   "execution_count": null,
   "metadata": {},
   "outputs": [],
   "source": [
    "from sklearn.preprocessing import MinMaxScaler\n",
    "\n",
    "scaler = MinMaxScaler(feature_range=(0,100))\n",
    "\n",
    "\n",
    "# Acctually perform the scaling\n",
    "scaled_df = pd.DataFrame(scaler.fit_transform(crime_pred_df[preds2scale]),\n",
    "                        columns = preds2scale)\n",
    "\n",
    "scaled_df.describe()"
   ]
  },
  {
   "cell_type": "code",
   "execution_count": null,
   "metadata": {
    "collapsed": true
   },
   "outputs": [],
   "source": [
    "# And combine with the unscaled columns\n",
    "pred_scaled_df = pd.concat([scaled_df, crime_pred_df[preds2notscale]], axis=1)"
   ]
  },
  {
   "cell_type": "code",
   "execution_count": null,
   "metadata": {},
   "outputs": [],
   "source": [
    "pred_scaled_df.shape"
   ]
  },
  {
   "cell_type": "code",
   "execution_count": null,
   "metadata": {},
   "outputs": [],
   "source": [
    "crimes_scaled_preds_df = pred_scaled_df\n",
    "crimes_scaled_preds_df.describe()"
   ]
  },
  {
   "cell_type": "markdown",
   "metadata": {},
   "source": [
    "### In-Class Exercise 2 \n",
    "\n",
    "- Get two tSNE components for the scaled predictors using the default values for the hyperparameters\n",
    "- Plot the observations in these components\n",
    "- Plot the observations in these components with the violent crimes cut using the box plot statistics\n",
    "- Plot the observations in these components with the nonviolent crimes cut using the box plot statistics\n",
    "- Plot the observations in these components with one of the other response variables"
   ]
  },
  {
   "cell_type": "code",
   "execution_count": null,
   "metadata": {
    "collapsed": true
   },
   "outputs": [],
   "source": [
    "# tsne \n",
    "\n",
    "# Get two components for plotting\n",
    "components = 2\n",
    "\n",
    "tsne = TSNE(n_components= components, init='random',\n",
    "                         random_state=42)\n",
    "\n",
    "crimes_tsne = tsne.fit_transform(crimes_scaled_preds_df)"
   ]
  },
  {
   "cell_type": "code",
   "execution_count": null,
   "metadata": {},
   "outputs": [],
   "source": [
    "plt.scatter(crimes_tsne[:,0], crimes_tsne[:,1])"
   ]
  },
  {
   "cell_type": "code",
   "execution_count": null,
   "metadata": {},
   "outputs": [],
   "source": [
    "# Doing the first two PC scatterplots with ViolentCrimesPerPop as the binned response\n",
    "violent_box = crime_resp_df.boxplot(column = 'ViolentCrimesPerPop',\n",
    "                                   return_type = 'dict', sym = 'b')\n",
    "\n",
    "violent_box_bounds = [violent_box['whiskers'][0].get_ydata()[1], # lower whisker\n",
    "                    violent_box['boxes'][0].get_ydata()[0],      # lower box 25%\n",
    "                    violent_box['medians'][0].get_ydata()[0],    # median\n",
    "                    violent_box['boxes'][0].get_ydata()[2],      # upper box 75%\n",
    "                    violent_box['whiskers'][1].get_ydata()[1]]   # upper whisker\n",
    "\n",
    "print(violent_box_bounds)"
   ]
  },
  {
   "cell_type": "code",
   "execution_count": null,
   "metadata": {},
   "outputs": [],
   "source": [
    "# Now need to make a new column to correctly take care \n",
    "# of each of these boundary points and label our data by violent crime rates\n",
    "crime_levels = ['Great', 'Okay', 'Neutral', 'Bad', 'Abyssmal']\n",
    "\n",
    "# And now bin the data\n",
    "bins = violent_box_bounds\n",
    "bins.append(crime_resp_df['ViolentCrimesPerPop'].max())"
   ]
  },
  {
   "cell_type": "code",
   "execution_count": null,
   "metadata": {
    "collapsed": true
   },
   "outputs": [],
   "source": [
    "# Now use pd.cut to break the Violent Crimes into the different labels that we created above based on their bins\n",
    "Violent = pd.cut(crime_resp_df['ViolentCrimesPerPop'], bins, labels = crime_levels)"
   ]
  },
  {
   "cell_type": "code",
   "execution_count": null,
   "metadata": {},
   "outputs": [],
   "source": [
    "# PCA plot with labels for Violent Crime levels\n",
    "colors = ['navy', 'green', 'darkorange', 'pink', 'red']\n",
    "\n",
    "fig, ax = plt.subplots()\n",
    "for i, color in  zip(crime_levels, colors):\n",
    "        ax.scatter(crimes_tsne[Violent == i, 0],\n",
    "                   crimes_tsne[Violent == i, 1], c = color, label=i)\n",
    "\n",
    "\n",
    "ax.legend(loc = 3)\n",
    "ax.grid(True)\n",
    "plt.xlabel(\"Component 1\")\n",
    "plt.ylabel(\"Component 2\")\n",
    "plt.title('tSNE Plot of the Predictor Variables with Violent Crime Rate')\n"
   ]
  },
  {
   "cell_type": "code",
   "execution_count": null,
   "metadata": {},
   "outputs": [],
   "source": [
    "# Doing the first two PC scatterplots with nonViolPerPop as the binned response\n",
    "nonviolent_box = crime_resp_df.boxplot(column = 'nonViolPerPop',\n",
    "                                   return_type = 'dict', sym = 'b')\n",
    "\n",
    "nonviolent_box_bounds = [nonviolent_box['whiskers'][0].get_ydata()[1], # lower whisker\n",
    "                    nonviolent_box['boxes'][0].get_ydata()[0],      # lower box 25%\n",
    "                    nonviolent_box['medians'][0].get_ydata()[0],    # median\n",
    "                    nonviolent_box['boxes'][0].get_ydata()[2],      # upper box 75%\n",
    "                    nonviolent_box['whiskers'][1].get_ydata()[1]]   # upper whisker\n",
    "\n",
    "print(nonviolent_box_bounds)"
   ]
  },
  {
   "cell_type": "code",
   "execution_count": null,
   "metadata": {
    "collapsed": true
   },
   "outputs": [],
   "source": [
    "# Now need to make a new column to correctly take care \n",
    "# of each of these boundary points and label our data by nonviolent crime rates\n",
    "crime_levels = ['Great', 'Okay', 'Neutral', 'Bad', 'Abyssmal']\n",
    "\n",
    "# And now bin the data\n",
    "bins = nonviolent_box_bounds\n",
    "bins.append(crime_resp_df['nonViolPerPop'].max())"
   ]
  },
  {
   "cell_type": "code",
   "execution_count": null,
   "metadata": {},
   "outputs": [],
   "source": [
    "# Now use pd.cut to break the NonViolent Crimes into the different labels that we created above based on their bins\n",
    "NonViolent = pd.cut(crime_resp_df['nonViolPerPop'], bins, labels = crime_levels)\n",
    "\n",
    "# PCA plot with labels for NonViolent Crime levels\n",
    "colors = ['navy', 'green', 'darkorange', 'pink', 'red']\n",
    "\n",
    "fig, ax = plt.subplots()\n",
    "for i, color in  zip(crime_levels, colors):\n",
    "        ax.scatter(crimes_tsne[NonViolent == i, 0],\n",
    "                   crimes_tsne[NonViolent == i, 1], c = color, label=i)\n",
    "\n",
    "\n",
    "ax.legend(loc = 3)\n",
    "ax.grid(True)\n",
    "plt.xlabel(\"Component 1\")\n",
    "plt.ylabel(\"Component 2\")\n",
    "plt.title('tSNE Plot of the Predictor Variables with Nonviolent Crime Rate')"
   ]
  },
  {
   "cell_type": "code",
   "execution_count": null,
   "metadata": {},
   "outputs": [],
   "source": [
    "# Doing the first two PC scatterplots with nonViolPerPop as the binned response\n",
    "rapes_box = crime_resp_df.boxplot(column = 'rapesPerPop',\n",
    "                                   return_type = 'dict', sym = 'b')\n",
    "\n",
    "rapes_box_bounds = [rapes_box['whiskers'][0].get_ydata()[1], # lower whisker\n",
    "                    rapes_box['boxes'][0].get_ydata()[0],      # lower box 25%\n",
    "                    rapes_box['medians'][0].get_ydata()[0],    # median\n",
    "                    rapes_box['boxes'][0].get_ydata()[2],      # upper box 75%\n",
    "                    rapes_box['whiskers'][1].get_ydata()[1]]   # upper whisker\n",
    "\n",
    "print(rapes_box_bounds)\n",
    "\n",
    "\n",
    "# Produce all of these with a log transformation"
   ]
  },
  {
   "cell_type": "code",
   "execution_count": null,
   "metadata": {
    "collapsed": true
   },
   "outputs": [],
   "source": [
    "# Now need to make a new column to correctly take care \n",
    "# of each of these boundary points and label our data by rape rates\n",
    "crime_levels = ['Great', 'Okay', 'Neutral', 'Bad', 'Abyssmal']\n",
    "\n",
    "# And now bin the data\n",
    "bins = rapes_box_bounds\n",
    "bins.append(crime_resp_df['rapesPerPop'].max())"
   ]
  },
  {
   "cell_type": "code",
   "execution_count": null,
   "metadata": {},
   "outputs": [],
   "source": [
    "# Now use pd.cut to break the Rape Crimes into the different labels that we created above based on their bins\n",
    "Rapes = pd.cut(crime_resp_df['rapesPerPop'], bins, labels = crime_levels)\n",
    "\n",
    "# PCA plot with labels for Rape Crime levels\n",
    "colors = ['navy', 'green', 'darkorange', 'pink', 'red']\n",
    "\n",
    "fig, ax = plt.subplots()\n",
    "for i, color in  zip(crime_levels, colors):\n",
    "        ax.scatter(crimes_tsne[Rapes == i, 0],\n",
    "                   crimes_tsne[Rapes == i, 1], c = color, label=i)\n",
    "\n",
    "\n",
    "ax.legend(loc = 3)\n",
    "ax.grid(True)\n",
    "plt.xlabel(\"Component 1\")\n",
    "plt.ylabel(\"Component 2\")\n",
    "plt.title('tSNE Plot of the Predictor Variables with Rape Rate')"
   ]
  },
  {
   "cell_type": "markdown",
   "metadata": {},
   "source": [
    "### In-Class Exercise 3 \n",
    "\n",
    "- Get two tSNE components for the scaled predictors using perplexity values of 5 and 100\n",
    "- Plot the observations in these components\n",
    "- Plot the observations in these components with the violent crimes cut using the box plot statistics\n",
    "- Plot the observations in these components with the nonviolent crimes cut using the box plot statistics\n",
    "- Plot the observations in these components with one of the other response variables"
   ]
  },
  {
   "cell_type": "code",
   "execution_count": null,
   "metadata": {
    "collapsed": true
   },
   "outputs": [],
   "source": [
    "# tsne -- PERPLEXITY OF 5\n",
    "\n",
    "# Get two components for plotting\n",
    "components = 2\n",
    "\n",
    "tsne = TSNE(n_components= components, init='random',\n",
    "                         random_state=42, perplexity = 5)\n",
    "\n",
    "crimes_tsne = tsne.fit_transform(crimes_scaled_preds_df)"
   ]
  },
  {
   "cell_type": "code",
   "execution_count": null,
   "metadata": {},
   "outputs": [],
   "source": [
    "plt.scatter(crimes_tsne[:,0], crimes_tsne[:,1])"
   ]
  },
  {
   "cell_type": "code",
   "execution_count": null,
   "metadata": {},
   "outputs": [],
   "source": [
    "# PCA plot with labels for Violent Crime levels\n",
    "colors = ['navy', 'green', 'darkorange', 'pink', 'red']\n",
    "\n",
    "fig, ax = plt.subplots()\n",
    "for i, color in  zip(crime_levels, colors):\n",
    "        ax.scatter(crimes_tsne[Violent == i, 0],\n",
    "                   crimes_tsne[Violent == i, 1], c = color, label=i)\n",
    "\n",
    "\n",
    "ax.legend(loc = 3)\n",
    "ax.grid(True)\n",
    "plt.xlabel(\"Component 1\")\n",
    "plt.ylabel(\"Component 2\")\n",
    "plt.title('tSNE (perplexity = 5) Plot of the Predictor Variables with Violent Crime Rate')\n"
   ]
  },
  {
   "cell_type": "code",
   "execution_count": null,
   "metadata": {},
   "outputs": [],
   "source": [
    "# PCA plot with labels for NonViolent Crime levels\n",
    "colors = ['navy', 'green', 'darkorange', 'pink', 'red']\n",
    "\n",
    "fig, ax = plt.subplots()\n",
    "for i, color in  zip(crime_levels, colors):\n",
    "        ax.scatter(crimes_tsne[NonViolent == i, 0],\n",
    "                   crimes_tsne[NonViolent == i, 1], c = color, label=i)\n",
    "\n",
    "\n",
    "ax.legend(loc = 3)\n",
    "ax.grid(True)\n",
    "plt.xlabel(\"Component 1\")\n",
    "plt.ylabel(\"Component 2\")\n",
    "plt.title('tSNE (perplexity = 5) Plot of the Predictor Variables with NonViolent Crime Rate')\n"
   ]
  },
  {
   "cell_type": "code",
   "execution_count": null,
   "metadata": {},
   "outputs": [],
   "source": [
    "# PCA plot with labels for Rape Crime levels\n",
    "colors = ['navy', 'green', 'darkorange', 'pink', 'red']\n",
    "\n",
    "fig, ax = plt.subplots()\n",
    "for i, color in  zip(crime_levels, colors):\n",
    "        ax.scatter(crimes_tsne[Rapes == i, 0],\n",
    "                   crimes_tsne[Rapes == i, 1], c = color, label=i)\n",
    "\n",
    "\n",
    "ax.legend(loc = 3)\n",
    "ax.grid(True)\n",
    "plt.xlabel(\"Component 1\")\n",
    "plt.ylabel(\"Component 2\")\n",
    "plt.title('tSNE (perplexity = 5) Plot of the Predictor Variables with Rape Crime Rate')\n"
   ]
  },
  {
   "cell_type": "code",
   "execution_count": null,
   "metadata": {
    "collapsed": true
   },
   "outputs": [],
   "source": [
    "# tsne - PERPLEXITY = 100\n",
    "\n",
    "# Get two components for plotting\n",
    "components = 2\n",
    "\n",
    "tsne = TSNE(n_components= components, init='random',\n",
    "                         random_state=42, perplexity = 100)\n",
    "\n",
    "crimes_tsne = tsne.fit_transform(crimes_scaled_preds_df)"
   ]
  },
  {
   "cell_type": "code",
   "execution_count": null,
   "metadata": {},
   "outputs": [],
   "source": [
    "plt.scatter(crimes_tsne[:,0], crimes_tsne[:,1])"
   ]
  },
  {
   "cell_type": "code",
   "execution_count": null,
   "metadata": {},
   "outputs": [],
   "source": [
    "# PCA plot with labels for Violent Crime levels\n",
    "colors = ['navy', 'green', 'darkorange', 'pink', 'red']\n",
    "\n",
    "fig, ax = plt.subplots()\n",
    "for i, color in  zip(crime_levels, colors):\n",
    "        ax.scatter(crimes_tsne[Violent == i, 0],\n",
    "                   crimes_tsne[Violent == i, 1], c = color, label=i)\n",
    "\n",
    "\n",
    "ax.legend(loc = 3)\n",
    "ax.grid(True)\n",
    "plt.xlabel(\"Component 1\")\n",
    "plt.ylabel(\"Component 2\")\n",
    "plt.title('PtSNE (perplexity = 100) Plot of the Predictor Variables with Violent Crime Rate')\n"
   ]
  },
  {
   "cell_type": "code",
   "execution_count": null,
   "metadata": {},
   "outputs": [],
   "source": [
    "# PCA plot with labels for Non-Violent Crime levels\n",
    "colors = ['navy', 'green', 'darkorange', 'pink', 'red']\n",
    "\n",
    "fig, ax = plt.subplots()\n",
    "for i, color in  zip(crime_levels, colors):\n",
    "        ax.scatter(crimes_tsne[NonViolent == i, 0],\n",
    "                   crimes_tsne[NonViolent == i, 1], c = color, label=i)\n",
    "\n",
    "\n",
    "ax.legend(loc = 3)\n",
    "ax.grid(True)\n",
    "plt.xlabel(\"Component 1\")\n",
    "plt.ylabel(\"Component 2\")\n",
    "plt.title('tSNE (perplexity = 100) Plot of the Predictor Variables with Non-Violent Crime Rate')\n"
   ]
  },
  {
   "cell_type": "code",
   "execution_count": null,
   "metadata": {},
   "outputs": [],
   "source": [
    "# PCA plot with labels for Rape Crime levels\n",
    "colors = ['navy', 'green', 'darkorange', 'pink', 'red']\n",
    "\n",
    "fig, ax = plt.subplots()\n",
    "for i, color in  zip(crime_levels, colors):\n",
    "        ax.scatter(crimes_tsne[Rapes == i, 0],\n",
    "                   crimes_tsne[Rapes == i, 1], c = color, label=i)\n",
    "\n",
    "\n",
    "ax.legend(loc = 3)\n",
    "ax.grid(True)\n",
    "plt.xlabel(\"Component 1\")\n",
    "plt.ylabel(\"Component 2\")\n",
    "plt.title('tSNE (perplexity = 100) Plot of the Predictor Variables with Rape Crime Rate')\n"
   ]
  },
  {
   "cell_type": "markdown",
   "metadata": {
    "collapsed": true
   },
   "source": [
    "### In-Class Exercise 4 \n",
    "\n",
    "- Get two tSNE components for the scaled predictors with log transformations using at least two different values for the hyperparameters\n",
    "- Plot the observations in these components\n",
    "- Plot the observations in these components with the violent crimes cut using the box plot statistics\n",
    "- Plot the observations in these components with the nonviolent crimes cut using the box plot statistics\n",
    "- Plot the observations in these components with one of the other response variables"
   ]
  },
  {
   "cell_type": "code",
   "execution_count": null,
   "metadata": {
    "collapsed": true
   },
   "outputs": [],
   "source": [
    "# Take the log transform of the predictor space\n",
    "crimes_scaled_preds_log_df = np.log(crimes_scaled_preds_df + .1)"
   ]
  },
  {
   "cell_type": "code",
   "execution_count": null,
   "metadata": {
    "collapsed": true
   },
   "outputs": [],
   "source": [
    "# tsne -- PERPLEXITY OF 5\n",
    "\n",
    "# Get two components for plotting\n",
    "components = 2\n",
    "\n",
    "tsne = TSNE(n_components= components, init='random',\n",
    "                         random_state=42, perplexity = 5)\n",
    "\n",
    "crimes_tsne = tsne.fit_transform(crimes_scaled_preds_log_df)"
   ]
  },
  {
   "cell_type": "code",
   "execution_count": null,
   "metadata": {},
   "outputs": [],
   "source": [
    "plt.scatter(crimes_tsne[:,0], crimes_tsne[:,1])"
   ]
  },
  {
   "cell_type": "code",
   "execution_count": null,
   "metadata": {},
   "outputs": [],
   "source": [
    "# PCA plot with labels for Violent Crime levels\n",
    "colors = ['navy', 'green', 'darkorange', 'pink', 'red']\n",
    "\n",
    "fig, ax = plt.subplots()\n",
    "for i, color in  zip(crime_levels, colors):\n",
    "        ax.scatter(crimes_tsne[Violent == i, 0],\n",
    "                   crimes_tsne[Violent == i, 1], c = color, label=i)\n",
    "\n",
    "\n",
    "ax.legend(loc = 3)\n",
    "ax.grid(True)\n",
    "plt.xlabel(\"Component 1\")\n",
    "plt.ylabel(\"Component 2\")\n",
    "plt.title('tSNE (perplexity = 5) Plot of the Log of the Predictor Variables with Violent Crime Rate')"
   ]
  },
  {
   "cell_type": "code",
   "execution_count": null,
   "metadata": {},
   "outputs": [],
   "source": [
    "# PCA plot with labels for Non-Violent Crime levels\n",
    "colors = ['navy', 'green', 'darkorange', 'pink', 'red']\n",
    "\n",
    "fig, ax = plt.subplots()\n",
    "for i, color in  zip(crime_levels, colors):\n",
    "        ax.scatter(crimes_tsne[NonViolent == i, 0],\n",
    "                   crimes_tsne[NonViolent == i, 1], c = color, label=i)\n",
    "\n",
    "\n",
    "ax.legend(loc = 3)\n",
    "ax.grid(True)\n",
    "plt.xlabel(\"Component 1\")\n",
    "plt.ylabel(\"Component 2\")\n",
    "plt.title('tSNE (perplexity = 5) Plot of the Log of the Predictor Variables with Non-Violent Crime Rate')\n"
   ]
  },
  {
   "cell_type": "code",
   "execution_count": null,
   "metadata": {},
   "outputs": [],
   "source": [
    "# PCA plot with labels for Rape Crime levels\n",
    "colors = ['navy', 'green', 'darkorange', 'pink', 'red']\n",
    "\n",
    "fig, ax = plt.subplots()\n",
    "for i, color in  zip(crime_levels, colors):\n",
    "        ax.scatter(crimes_tsne[Rapes == i, 0],\n",
    "                   crimes_tsne[Rapes == i, 1], c = color, label=i)\n",
    "\n",
    "\n",
    "ax.legend(loc = 3)\n",
    "ax.grid(True)\n",
    "plt.xlabel(\"Component 1\")\n",
    "plt.ylabel(\"Component 2\")\n",
    "plt.title('tSNE (perplexity = 5) Plot of the Log of the Predictor Variables with Rape Crime Rate')\n"
   ]
  },
  {
   "cell_type": "code",
   "execution_count": null,
   "metadata": {
    "collapsed": true
   },
   "outputs": [],
   "source": [
    "# tsne -- PERPLEXITY OF 100\n",
    "\n",
    "# Get two components for plotting\n",
    "components = 2\n",
    "\n",
    "tsne = TSNE(n_components= components, init='random',\n",
    "                         random_state=42, perplexity = 100)\n",
    "\n",
    "crimes_tsne = tsne.fit_transform(crimes_scaled_preds_log_df)"
   ]
  },
  {
   "cell_type": "code",
   "execution_count": null,
   "metadata": {},
   "outputs": [],
   "source": [
    "plt.scatter(crimes_tsne[:,0], crimes_tsne[:,1])"
   ]
  },
  {
   "cell_type": "code",
   "execution_count": null,
   "metadata": {},
   "outputs": [],
   "source": [
    "# PCA plot with labels for Violent Crime levels\n",
    "colors = ['navy', 'green', 'darkorange', 'pink', 'red']\n",
    "\n",
    "fig, ax = plt.subplots()\n",
    "for i, color in  zip(crime_levels, colors):\n",
    "        ax.scatter(crimes_tsne[Violent == i, 0],\n",
    "                   crimes_tsne[Violent == i, 1], c = color, label=i)\n",
    "\n",
    "\n",
    "ax.legend(loc = 3)\n",
    "ax.grid(True)\n",
    "plt.xlabel(\"Component 1\")\n",
    "plt.ylabel(\"Component 2\")\n",
    "plt.title('tSNE (perplexity = 100) Plot of the Log of the Predictor Variables with Violent Crime Rate')"
   ]
  },
  {
   "cell_type": "code",
   "execution_count": null,
   "metadata": {},
   "outputs": [],
   "source": [
    "# PCA plot with labels for Non-Violent Crime levels\n",
    "colors = ['navy', 'green', 'darkorange', 'pink', 'red']\n",
    "\n",
    "fig, ax = plt.subplots()\n",
    "for i, color in  zip(crime_levels, colors):\n",
    "        ax.scatter(crimes_tsne[NonViolent == i, 0],\n",
    "                   crimes_tsne[NonViolent == i, 1], c = color, label=i)\n",
    "\n",
    "\n",
    "ax.legend(loc = 3)\n",
    "ax.grid(True)\n",
    "plt.xlabel(\"Component 1\")\n",
    "plt.ylabel(\"Component 2\")\n",
    "plt.title('tSNE (perplexity = 100) Plot of the Log of the Predictor Variables with Non-Violent Crime Rate')\n"
   ]
  },
  {
   "cell_type": "code",
   "execution_count": null,
   "metadata": {},
   "outputs": [],
   "source": [
    "# PCA plot with labels for Rape Crime levels\n",
    "colors = ['navy', 'green', 'darkorange', 'pink', 'red']\n",
    "\n",
    "fig, ax = plt.subplots()\n",
    "for i, color in  zip(crime_levels, colors):\n",
    "        ax.scatter(crimes_tsne[Rapes == i, 0],\n",
    "                   crimes_tsne[Rapes == i, 1], c = color, label=i)\n",
    "\n",
    "\n",
    "ax.legend(loc = 3)\n",
    "ax.grid(True)\n",
    "plt.xlabel(\"Component 1\")\n",
    "plt.ylabel(\"Component 2\")\n",
    "plt.title('tSNE (perplexity = 100) Plot of the Log of the Predictor Variables with Rape Crime Rate')\n"
   ]
  },
  {
   "cell_type": "markdown",
   "metadata": {},
   "source": [
    "### In-Class Exercise 5\n",
    "\n",
    "- Insert a principal component and comparable t-SNE plot\n",
    "- Compare and contrast these two plots using criteria of your choosing"
   ]
  },
  {
   "cell_type": "markdown",
   "metadata": {},
   "source": [
    "### In-Class Exercise 5 Answers\n",
    "\n",
    "- I decided to include a PCA plot and a tSNE plot (perplexity = 30) for Violent Crime using the log-transformed predictors\n",
    "- Looking at these plots, you can see that they have both managed to find some structure in the data such that we can see a separation in towns from the places with more Violent Crime to places with less Violent Crime. In this case, the first two components of the PCA have managed to induce a linear separation. In the tSNE though we actually get a much better look at the non-linear relationship underlying the data."
   ]
  },
  {
   "cell_type": "code",
   "execution_count": null,
   "metadata": {
    "collapsed": true
   },
   "outputs": [],
   "source": [
    "# tsne -- PERPLEXITY OF 30\n",
    "\n",
    "# Get two components for plotting\n",
    "components = 2\n",
    "\n",
    "tsne = TSNE(n_components= components, init='random',\n",
    "                         random_state=42, perplexity = 30)\n",
    "\n",
    "crimes_tsne = tsne.fit_transform(crimes_scaled_preds_log_df)\n",
    "\n",
    "## perform PCA on the predictor variables\n",
    "\n",
    "n = len(crimes_scaled_preds_log_df.columns)\n",
    "\n",
    "pca = PCA(n_components = n)\n",
    "# default is the number of columns in the data \n",
    "# but can be set to any integer less than or equal to that value\n",
    "\n",
    "crimes_pca = pca.fit_transform(crimes_scaled_preds_log_df)\n"
   ]
  },
  {
   "cell_type": "code",
   "execution_count": null,
   "metadata": {},
   "outputs": [],
   "source": [
    "# PCA log plot with labels for Violent Crime levels\n",
    "colors = ['navy', 'green', 'darkorange', 'pink', 'red']\n",
    "\n",
    "fig, ax = plt.subplots()\n",
    "for i, color in  zip(crime_levels, colors):\n",
    "        ax.scatter(crimes_pca[Violent == i, 0],\n",
    "                   crimes_pca[Violent == i, 1], c = color, label=i)\n",
    "\n",
    "\n",
    "ax.legend(loc = 3)\n",
    "ax.grid(True)\n",
    "plt.xlabel(\"Component 1\")\n",
    "plt.ylabel(\"Component 2\")\n",
    "plt.title('Principal Component Plot of the log of the Predictor Variables with Violent Crime Rate')"
   ]
  },
  {
   "cell_type": "code",
   "execution_count": null,
   "metadata": {},
   "outputs": [],
   "source": [
    "# tSNE plot with labels for Violent Crime levels\n",
    "colors = ['navy', 'green', 'darkorange', 'pink', 'red']\n",
    "\n",
    "fig, ax = plt.subplots()\n",
    "for i, color in  zip(crime_levels, colors):\n",
    "        ax.scatter(crimes_tsne[Violent == i, 0],\n",
    "                   crimes_tsne[Violent == i, 1], c = color, label=i)\n",
    "\n",
    "\n",
    "ax.legend(loc = 3)\n",
    "ax.grid(True)\n",
    "plt.xlabel(\"Component 1\")\n",
    "plt.ylabel(\"Component 2\")\n",
    "plt.title('tSNE (perplexity = 30) Plot of the Log of the Predictor Variables with Violent Crime Rate')"
   ]
  },
  {
   "cell_type": "code",
   "execution_count": null,
   "metadata": {
    "collapsed": true
   },
   "outputs": [],
   "source": []
  }
 ],
 "metadata": {
  "kernelspec": {
   "display_name": "Python 2",
   "language": "python",
   "name": "python2"
  },
  "language_info": {
   "codemirror_mode": {
    "name": "ipython",
    "version": 2
   },
   "file_extension": ".py",
   "mimetype": "text/x-python",
   "name": "python",
   "nbconvert_exporter": "python",
   "pygments_lexer": "ipython2",
   "version": "2.7.13"
  }
 },
 "nbformat": 4,
 "nbformat_minor": 2
}
