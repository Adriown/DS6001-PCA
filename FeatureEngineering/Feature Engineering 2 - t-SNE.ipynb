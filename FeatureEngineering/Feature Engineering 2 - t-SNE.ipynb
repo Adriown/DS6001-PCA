{
 "cells": [
  {
   "cell_type": "markdown",
   "metadata": {},
   "source": [
    "### In-Class Exercise 1: Load the clean communitiy crime data\n",
    "\n",
    "- Create a dataframe for predictor and response variables\n",
    "- Scale the predictor variables as done in Feature Engineering 1 - Principal Components\n"
   ]
  },
  {
   "cell_type": "code",
   "execution_count": 34,
   "metadata": {},
   "outputs": [],
   "source": [
    "from sklearn.manifold import TSNE\n",
    "\n",
    "# Data processing and functions\n",
    "import pandas as pd\n",
    "import numpy as np\n",
    "import scipy as sp\n",
    "\n",
    "# Analytics and modeling\n",
    "from sklearn.cross_validation import train_test_split\n",
    "from sklearn.metrics import mean_squared_error\n",
    "from sklearn.model_selection import cross_val_predict\n",
    "from sklearn import linear_model\n",
    "from sklearn.model_selection import cross_val_score\n",
    "from sklearn.decomposition import PCA\n",
    "from sklearn.preprocessing import MinMaxScaler\n",
    "from sklearn import manifold\n",
    "from sklearn.feature_selection import SelectKBest, f_regression\n",
    "from sklearn.pipeline import make_pipeline\n",
    "import statsmodels.api as sm\n",
    "import statsmodels.sandbox.tools.tools_pca as sm_pca\n",
    "from statsmodels.formula.api import ols as sm_ols\n",
    "from statsmodels.stats.anova import anova_lm as sm_anova\n",
    "from patsy.contrasts import Treatment\n",
    "from patsy import dmatrices\n",
    "\n",
    "# Graphing and visualizing\n",
    "import seaborn as sns\n",
    "import matplotlib as mpl\n",
    "import matplotlib.pyplot as plt\n",
    "import matplotlib.colors as colors\n",
    "from matplotlib import cm\n",
    "from pylab import savefig\n",
    "\n",
    "# Setting graphing preferences\n",
    "sns.set(style=\"darkgrid\", color_codes=True)\n",
    "\n",
    "# Printing\n",
    "import locale\n",
    "\n",
    "# Show plots locally\n",
    "locale.setlocale( locale.LC_ALL, '' )\n",
    "\n",
    "%matplotlib inline"
   ]
  },
  {
   "cell_type": "code",
   "execution_count": 35,
   "metadata": {},
   "outputs": [],
   "source": [
    "# Load our data\n",
    "path = \"/Users/mead/Fall2017/DonBrown-DS6001/FeatureEngineering/\"\n",
    "\n",
    "file = \"CrimeDataClean.csv\"\n",
    "\n",
    "label = \"CrimeVariableLabels.txt\"\n",
    "\n",
    "# DATA\n",
    "crime_df_clean = pd.read_csv(path + file, low_memory = False)"
   ]
  },
  {
   "cell_type": "code",
   "execution_count": 36,
   "metadata": {},
   "outputs": [],
   "source": [
    "# Divide up into predictors and responses\n",
    "predictors = crime_df_clean.columns[:101]\n",
    "response = crime_df_clean.columns[102:]"
   ]
  },
  {
   "cell_type": "code",
   "execution_count": 47,
   "metadata": {
    "collapsed": true
   },
   "outputs": [],
   "source": [
    "# Standardize by removing the raw crime counts (want just PerPop)\n",
    "response_start = crime_df_clean.columns.get_loc('murders')\n",
    "# Just using pattern information to extract these columns more easily\n",
    "cols = list(range(response_start + 1, 118, 2))\n",
    "cols.extend([118,119])"
   ]
  },
  {
   "cell_type": "code",
   "execution_count": 48,
   "metadata": {},
   "outputs": [
    {
     "data": {
      "text/plain": [
       "(2215, 102)"
      ]
     },
     "execution_count": 48,
     "metadata": {},
     "output_type": "execute_result"
    }
   ],
   "source": [
    "# Get response df\n",
    "crime_resp_df = crime_df_clean[crime_df_clean.columns[cols]]\n",
    "\n",
    "# Get the predicted df\n",
    "crime_pred_df = crime_df_clean.loc[:, :'LemasPctOfficDrugUn']\n",
    "crime_pred_df.shape"
   ]
  },
  {
   "cell_type": "code",
   "execution_count": 38,
   "metadata": {},
   "outputs": [
    {
     "name": "stdout",
     "output_type": "stream",
     "text": [
      "Index([u'population', u'numbUrban', u'medIncome', u'medFamInc', u'perCapInc',\n",
      "       u'whitePerCap', u'blackPerCap', u'indianPerCap', u'AsianPerCap',\n",
      "       u'OtherPerCap', u'HispPerCap', u'NumUnderPov', u'NumKidsBornNeverMar',\n",
      "       u'NumImmig', u'HousVacant', u'MedYrHousBuilt', u'OwnOccLowQuart',\n",
      "       u'OwnOccMedVal', u'OwnOccHiQuart', u'OwnOccQrange', u'RentLowQ',\n",
      "       u'RentMedian', u'RentHighQ', u'MedRent', u'NumInShelters', u'NumStreet',\n",
      "       u'LandArea', u'PopDens'],\n",
      "      dtype='object')\n",
      "Index([u'householdsize', u'racepctblack', u'racePctWhite', u'racePctAsian',\n",
      "       u'racePctHisp', u'agePct12t21', u'agePct12t29', u'agePct16t24',\n",
      "       u'agePct65up', u'pctUrban', u'pctWWage', u'pctWFarmSelf', u'pctWInvInc',\n",
      "       u'pctWSocSec', u'pctWPubAsst', u'pctWRetire', u'PctPopUnderPov',\n",
      "       u'PctLess9thGrade', u'PctNotHSGrad', u'PctBSorMore', u'PctUnemployed',\n",
      "       u'PctEmploy', u'PctEmplManu', u'PctEmplProfServ', u'PctOccupManu',\n",
      "       u'PctOccupMgmtProf', u'MalePctDivorce', u'MalePctNevMarr',\n",
      "       u'FemalePctDiv', u'TotalPctDiv', u'PersPerFam', u'PctFam2Par',\n",
      "       u'PctKids2Par', u'PctYoungKids2Par', u'PctTeen2Par',\n",
      "       u'PctWorkMomYoungKids', u'PctWorkMom', u'PctKidsBornNeverMar',\n",
      "       u'PctImmigRecent', u'PctImmigRec5', u'PctImmigRec8', u'PctImmigRec10',\n",
      "       u'PctRecentImmig', u'PctRecImmig5', u'PctRecImmig8', u'PctRecImmig10',\n",
      "       u'PctSpeakEnglOnly', u'PctNotSpeakEnglWell', u'PctLargHouseFam',\n",
      "       u'PctLargHouseOccup', u'PersPerOccupHous', u'PersPerOwnOccHous',\n",
      "       u'PersPerRentOccHous', u'PctPersOwnOccup', u'PctPersDenseHous',\n",
      "       u'PctHousLess3BR', u'MedNumBR', u'PctHousOccup', u'PctHousOwnOcc',\n",
      "       u'PctVacantBoarded', u'PctVacMore6Mos', u'PctHousNoPhone',\n",
      "       u'PctWOFullPlumb', u'RentQrange', u'MedRentPctHousInc',\n",
      "       u'MedOwnCostPctInc', u'MedOwnCostPctIncNoMtg', u'PctForeignBorn',\n",
      "       u'PctBornSameState', u'PctSameHouse85', u'PctSameCity85',\n",
      "       u'PctSameState85', u'PctUsePubTrans', u'LemasPctOfficDrugUn'],\n",
      "      dtype='object')\n"
     ]
    }
   ],
   "source": [
    "# Pick the columns we need to scale\n",
    "crime_pred_df.describe()\n",
    "# Some of these are percentages; only need to scale the one with ranges \n",
    "\n",
    "preds2scale = crime_pred_df.columns[crime_pred_df.apply('max', axis = 0) > 1000]\n",
    "print(preds2scale)\n",
    "preds2notscale = crime_pred_df.columns[crime_pred_df.apply('max', axis = 0) < 1000]\n",
    "print(preds2notscale)"
   ]
  },
  {
   "cell_type": "code",
   "execution_count": 39,
   "metadata": {},
   "outputs": [
    {
     "data": {
      "text/html": [
       "<div>\n",
       "<style>\n",
       "    .dataframe thead tr:only-child th {\n",
       "        text-align: right;\n",
       "    }\n",
       "\n",
       "    .dataframe thead th {\n",
       "        text-align: left;\n",
       "    }\n",
       "\n",
       "    .dataframe tbody tr th {\n",
       "        vertical-align: top;\n",
       "    }\n",
       "</style>\n",
       "<table border=\"1\" class=\"dataframe\">\n",
       "  <thead>\n",
       "    <tr style=\"text-align: right;\">\n",
       "      <th></th>\n",
       "      <th>population</th>\n",
       "      <th>numbUrban</th>\n",
       "      <th>medIncome</th>\n",
       "      <th>medFamInc</th>\n",
       "      <th>perCapInc</th>\n",
       "      <th>whitePerCap</th>\n",
       "      <th>blackPerCap</th>\n",
       "      <th>indianPerCap</th>\n",
       "      <th>AsianPerCap</th>\n",
       "      <th>OtherPerCap</th>\n",
       "      <th>...</th>\n",
       "      <th>OwnOccHiQuart</th>\n",
       "      <th>OwnOccQrange</th>\n",
       "      <th>RentLowQ</th>\n",
       "      <th>RentMedian</th>\n",
       "      <th>RentHighQ</th>\n",
       "      <th>MedRent</th>\n",
       "      <th>NumInShelters</th>\n",
       "      <th>NumStreet</th>\n",
       "      <th>LandArea</th>\n",
       "      <th>PopDens</th>\n",
       "    </tr>\n",
       "  </thead>\n",
       "  <tbody>\n",
       "    <tr>\n",
       "      <th>count</th>\n",
       "      <td>2215.000000</td>\n",
       "      <td>2215.000000</td>\n",
       "      <td>2215.000000</td>\n",
       "      <td>2215.000000</td>\n",
       "      <td>2215.000000</td>\n",
       "      <td>2215.000000</td>\n",
       "      <td>2215.000000</td>\n",
       "      <td>2215.000000</td>\n",
       "      <td>2215.000000</td>\n",
       "      <td>2215.000000</td>\n",
       "      <td>...</td>\n",
       "      <td>2215.000000</td>\n",
       "      <td>2215.000000</td>\n",
       "      <td>2215.000000</td>\n",
       "      <td>2215.000000</td>\n",
       "      <td>2215.000000</td>\n",
       "      <td>2215.000000</td>\n",
       "      <td>2215.000000</td>\n",
       "      <td>2215.000000</td>\n",
       "      <td>2215.000000</td>\n",
       "      <td>2215.000000</td>\n",
       "    </tr>\n",
       "    <tr>\n",
       "      <th>mean</th>\n",
       "      <td>0.589575</td>\n",
       "      <td>0.651885</td>\n",
       "      <td>21.888215</td>\n",
       "      <td>22.876343</td>\n",
       "      <td>17.853310</td>\n",
       "      <td>17.507177</td>\n",
       "      <td>5.441142</td>\n",
       "      <td>2.547748</td>\n",
       "      <td>13.401770</td>\n",
       "      <td>6.892115</td>\n",
       "      <td>...</td>\n",
       "      <td>24.823656</td>\n",
       "      <td>17.106482</td>\n",
       "      <td>25.606052</td>\n",
       "      <td>35.021254</td>\n",
       "      <td>42.155412</td>\n",
       "      <td>38.252950</td>\n",
       "      <td>0.286334</td>\n",
       "      <td>0.170609</td>\n",
       "      <td>0.743085</td>\n",
       "      <td>6.272821</td>\n",
       "    </tr>\n",
       "    <tr>\n",
       "      <th>std</th>\n",
       "      <td>2.798203</td>\n",
       "      <td>2.807851</td>\n",
       "      <td>11.698150</td>\n",
       "      <td>11.085170</td>\n",
       "      <td>10.818150</td>\n",
       "      <td>10.014264</td>\n",
       "      <td>4.352302</td>\n",
       "      <td>3.094549</td>\n",
       "      <td>9.307461</td>\n",
       "      <td>5.784468</td>\n",
       "      <td>...</td>\n",
       "      <td>20.989975</td>\n",
       "      <td>11.814652</td>\n",
       "      <td>15.979874</td>\n",
       "      <td>19.376464</td>\n",
       "      <td>24.333429</td>\n",
       "      <td>20.923577</td>\n",
       "      <td>2.413091</td>\n",
       "      <td>2.349503</td>\n",
       "      <td>3.077211</td>\n",
       "      <td>6.397557</td>\n",
       "    </tr>\n",
       "    <tr>\n",
       "      <th>min</th>\n",
       "      <td>0.000000</td>\n",
       "      <td>0.000000</td>\n",
       "      <td>0.000000</td>\n",
       "      <td>0.000000</td>\n",
       "      <td>0.000000</td>\n",
       "      <td>0.000000</td>\n",
       "      <td>0.000000</td>\n",
       "      <td>0.000000</td>\n",
       "      <td>0.000000</td>\n",
       "      <td>0.000000</td>\n",
       "      <td>...</td>\n",
       "      <td>0.000000</td>\n",
       "      <td>0.000000</td>\n",
       "      <td>0.000000</td>\n",
       "      <td>0.000000</td>\n",
       "      <td>0.000000</td>\n",
       "      <td>0.000000</td>\n",
       "      <td>0.000000</td>\n",
       "      <td>0.000000</td>\n",
       "      <td>0.000000</td>\n",
       "      <td>0.000000</td>\n",
       "    </tr>\n",
       "    <tr>\n",
       "      <th>25%</th>\n",
       "      <td>0.059637</td>\n",
       "      <td>0.000000</td>\n",
       "      <td>13.028172</td>\n",
       "      <td>14.849760</td>\n",
       "      <td>10.962714</td>\n",
       "      <td>11.263372</td>\n",
       "      <td>3.178625</td>\n",
       "      <td>1.321875</td>\n",
       "      <td>7.804361</td>\n",
       "      <td>4.035401</td>\n",
       "      <td>...</td>\n",
       "      <td>9.771069</td>\n",
       "      <td>9.728097</td>\n",
       "      <td>12.694013</td>\n",
       "      <td>19.239501</td>\n",
       "      <td>22.466422</td>\n",
       "      <td>21.260816</td>\n",
       "      <td>0.000000</td>\n",
       "      <td>0.000000</td>\n",
       "      <td>0.179327</td>\n",
       "      <td>2.650164</td>\n",
       "    </tr>\n",
       "    <tr>\n",
       "      <th>50%</th>\n",
       "      <td>0.174864</td>\n",
       "      <td>0.246375</td>\n",
       "      <td>19.671660</td>\n",
       "      <td>20.403544</td>\n",
       "      <td>15.265651</td>\n",
       "      <td>15.148790</td>\n",
       "      <td>4.609183</td>\n",
       "      <td>2.061458</td>\n",
       "      <td>11.538643</td>\n",
       "      <td>5.975182</td>\n",
       "      <td>...</td>\n",
       "      <td>16.638371</td>\n",
       "      <td>13.111782</td>\n",
       "      <td>23.059867</td>\n",
       "      <td>31.441544</td>\n",
       "      <td>37.118437</td>\n",
       "      <td>33.992583</td>\n",
       "      <td>0.000000</td>\n",
       "      <td>0.000000</td>\n",
       "      <td>0.358654</td>\n",
       "      <td>4.561973</td>\n",
       "    </tr>\n",
       "    <tr>\n",
       "      <th>75%</th>\n",
       "      <td>0.451538</td>\n",
       "      <td>0.572450</td>\n",
       "      <td>28.419993</td>\n",
       "      <td>28.431639</td>\n",
       "      <td>21.627486</td>\n",
       "      <td>20.728802</td>\n",
       "      <td>6.848011</td>\n",
       "      <td>3.074479</td>\n",
       "      <td>16.321292</td>\n",
       "      <td>8.412409</td>\n",
       "      <td>...</td>\n",
       "      <td>33.870212</td>\n",
       "      <td>19.773414</td>\n",
       "      <td>35.698448</td>\n",
       "      <td>48.127128</td>\n",
       "      <td>58.302808</td>\n",
       "      <td>52.286774</td>\n",
       "      <td>0.094085</td>\n",
       "      <td>0.009572</td>\n",
       "      <td>0.706100</td>\n",
       "      <td>7.489162</td>\n",
       "    </tr>\n",
       "    <tr>\n",
       "      <th>max</th>\n",
       "      <td>100.000000</td>\n",
       "      <td>100.000000</td>\n",
       "      <td>100.000000</td>\n",
       "      <td>100.000000</td>\n",
       "      <td>100.000000</td>\n",
       "      <td>100.000000</td>\n",
       "      <td>100.000000</td>\n",
       "      <td>100.000000</td>\n",
       "      <td>100.000000</td>\n",
       "      <td>100.000000</td>\n",
       "      <td>...</td>\n",
       "      <td>100.000000</td>\n",
       "      <td>100.000000</td>\n",
       "      <td>100.000000</td>\n",
       "      <td>100.000000</td>\n",
       "      <td>100.000000</td>\n",
       "      <td>100.000000</td>\n",
       "      <td>100.000000</td>\n",
       "      <td>100.000000</td>\n",
       "      <td>100.000000</td>\n",
       "      <td>100.000000</td>\n",
       "    </tr>\n",
       "  </tbody>\n",
       "</table>\n",
       "<p>8 rows × 28 columns</p>\n",
       "</div>"
      ],
      "text/plain": [
       "        population    numbUrban    medIncome    medFamInc    perCapInc  \\\n",
       "count  2215.000000  2215.000000  2215.000000  2215.000000  2215.000000   \n",
       "mean      0.589575     0.651885    21.888215    22.876343    17.853310   \n",
       "std       2.798203     2.807851    11.698150    11.085170    10.818150   \n",
       "min       0.000000     0.000000     0.000000     0.000000     0.000000   \n",
       "25%       0.059637     0.000000    13.028172    14.849760    10.962714   \n",
       "50%       0.174864     0.246375    19.671660    20.403544    15.265651   \n",
       "75%       0.451538     0.572450    28.419993    28.431639    21.627486   \n",
       "max     100.000000   100.000000   100.000000   100.000000   100.000000   \n",
       "\n",
       "       whitePerCap  blackPerCap  indianPerCap  AsianPerCap  OtherPerCap  \\\n",
       "count  2215.000000  2215.000000   2215.000000  2215.000000  2215.000000   \n",
       "mean     17.507177     5.441142      2.547748    13.401770     6.892115   \n",
       "std      10.014264     4.352302      3.094549     9.307461     5.784468   \n",
       "min       0.000000     0.000000      0.000000     0.000000     0.000000   \n",
       "25%      11.263372     3.178625      1.321875     7.804361     4.035401   \n",
       "50%      15.148790     4.609183      2.061458    11.538643     5.975182   \n",
       "75%      20.728802     6.848011      3.074479    16.321292     8.412409   \n",
       "max     100.000000   100.000000    100.000000   100.000000   100.000000   \n",
       "\n",
       "          ...       OwnOccHiQuart  OwnOccQrange     RentLowQ   RentMedian  \\\n",
       "count     ...         2215.000000   2215.000000  2215.000000  2215.000000   \n",
       "mean      ...           24.823656     17.106482    25.606052    35.021254   \n",
       "std       ...           20.989975     11.814652    15.979874    19.376464   \n",
       "min       ...            0.000000      0.000000     0.000000     0.000000   \n",
       "25%       ...            9.771069      9.728097    12.694013    19.239501   \n",
       "50%       ...           16.638371     13.111782    23.059867    31.441544   \n",
       "75%       ...           33.870212     19.773414    35.698448    48.127128   \n",
       "max       ...          100.000000    100.000000   100.000000   100.000000   \n",
       "\n",
       "         RentHighQ      MedRent  NumInShelters    NumStreet     LandArea  \\\n",
       "count  2215.000000  2215.000000    2215.000000  2215.000000  2215.000000   \n",
       "mean     42.155412    38.252950       0.286334     0.170609     0.743085   \n",
       "std      24.333429    20.923577       2.413091     2.349503     3.077211   \n",
       "min       0.000000     0.000000       0.000000     0.000000     0.000000   \n",
       "25%      22.466422    21.260816       0.000000     0.000000     0.179327   \n",
       "50%      37.118437    33.992583       0.000000     0.000000     0.358654   \n",
       "75%      58.302808    52.286774       0.094085     0.009572     0.706100   \n",
       "max     100.000000   100.000000     100.000000   100.000000   100.000000   \n",
       "\n",
       "           PopDens  \n",
       "count  2215.000000  \n",
       "mean      6.272821  \n",
       "std       6.397557  \n",
       "min       0.000000  \n",
       "25%       2.650164  \n",
       "50%       4.561973  \n",
       "75%       7.489162  \n",
       "max     100.000000  \n",
       "\n",
       "[8 rows x 28 columns]"
      ]
     },
     "execution_count": 39,
     "metadata": {},
     "output_type": "execute_result"
    }
   ],
   "source": [
    "from sklearn.preprocessing import MinMaxScaler\n",
    "\n",
    "scaler = MinMaxScaler(feature_range=(0,100))\n",
    "\n",
    "\n",
    "# Acctually perform the scaling\n",
    "scaled_df = pd.DataFrame(scaler.fit_transform(crime_pred_df[preds2scale]),\n",
    "                        columns = preds2scale)\n",
    "\n",
    "scaled_df.describe()"
   ]
  },
  {
   "cell_type": "code",
   "execution_count": 40,
   "metadata": {
    "collapsed": true
   },
   "outputs": [],
   "source": [
    "# And combine with the unscaled columns\n",
    "pred_scaled_df = pd.concat([scaled_df, crime_pred_df[preds2notscale]], axis=1)"
   ]
  },
  {
   "cell_type": "code",
   "execution_count": 41,
   "metadata": {},
   "outputs": [
    {
     "data": {
      "text/plain": [
       "(2215, 102)"
      ]
     },
     "execution_count": 41,
     "metadata": {},
     "output_type": "execute_result"
    }
   ],
   "source": [
    "pred_scaled_df.shape"
   ]
  },
  {
   "cell_type": "code",
   "execution_count": 45,
   "metadata": {},
   "outputs": [
    {
     "data": {
      "text/html": [
       "<div>\n",
       "<style>\n",
       "    .dataframe thead tr:only-child th {\n",
       "        text-align: right;\n",
       "    }\n",
       "\n",
       "    .dataframe thead th {\n",
       "        text-align: left;\n",
       "    }\n",
       "\n",
       "    .dataframe tbody tr th {\n",
       "        vertical-align: top;\n",
       "    }\n",
       "</style>\n",
       "<table border=\"1\" class=\"dataframe\">\n",
       "  <thead>\n",
       "    <tr style=\"text-align: right;\">\n",
       "      <th></th>\n",
       "      <th>population</th>\n",
       "      <th>numbUrban</th>\n",
       "      <th>medIncome</th>\n",
       "      <th>medFamInc</th>\n",
       "      <th>perCapInc</th>\n",
       "      <th>whitePerCap</th>\n",
       "      <th>blackPerCap</th>\n",
       "      <th>indianPerCap</th>\n",
       "      <th>AsianPerCap</th>\n",
       "      <th>OtherPerCap</th>\n",
       "      <th>...</th>\n",
       "      <th>MedRentPctHousInc</th>\n",
       "      <th>MedOwnCostPctInc</th>\n",
       "      <th>MedOwnCostPctIncNoMtg</th>\n",
       "      <th>PctForeignBorn</th>\n",
       "      <th>PctBornSameState</th>\n",
       "      <th>PctSameHouse85</th>\n",
       "      <th>PctSameCity85</th>\n",
       "      <th>PctSameState85</th>\n",
       "      <th>PctUsePubTrans</th>\n",
       "      <th>LemasPctOfficDrugUn</th>\n",
       "    </tr>\n",
       "  </thead>\n",
       "  <tbody>\n",
       "    <tr>\n",
       "      <th>count</th>\n",
       "      <td>2215.000000</td>\n",
       "      <td>2215.000000</td>\n",
       "      <td>2215.000000</td>\n",
       "      <td>2215.000000</td>\n",
       "      <td>2215.000000</td>\n",
       "      <td>2215.000000</td>\n",
       "      <td>2215.000000</td>\n",
       "      <td>2215.000000</td>\n",
       "      <td>2215.000000</td>\n",
       "      <td>2215.000000</td>\n",
       "      <td>...</td>\n",
       "      <td>2215.000000</td>\n",
       "      <td>2215.000000</td>\n",
       "      <td>2215.000000</td>\n",
       "      <td>2215.000000</td>\n",
       "      <td>2215.000000</td>\n",
       "      <td>2215.000000</td>\n",
       "      <td>2215.000000</td>\n",
       "      <td>2215.000000</td>\n",
       "      <td>2215.000000</td>\n",
       "      <td>2215.000000</td>\n",
       "    </tr>\n",
       "    <tr>\n",
       "      <th>mean</th>\n",
       "      <td>0.589575</td>\n",
       "      <td>0.651885</td>\n",
       "      <td>21.888215</td>\n",
       "      <td>22.876343</td>\n",
       "      <td>17.853310</td>\n",
       "      <td>17.507177</td>\n",
       "      <td>5.441142</td>\n",
       "      <td>2.547748</td>\n",
       "      <td>13.401770</td>\n",
       "      <td>6.892115</td>\n",
       "      <td>...</td>\n",
       "      <td>26.298104</td>\n",
       "      <td>20.990158</td>\n",
       "      <td>13.010203</td>\n",
       "      <td>7.340302</td>\n",
       "      <td>61.539630</td>\n",
       "      <td>51.538596</td>\n",
       "      <td>77.411079</td>\n",
       "      <td>88.111865</td>\n",
       "      <td>3.041124</td>\n",
       "      <td>0.980163</td>\n",
       "    </tr>\n",
       "    <tr>\n",
       "      <th>std</th>\n",
       "      <td>2.798203</td>\n",
       "      <td>2.807851</td>\n",
       "      <td>11.698150</td>\n",
       "      <td>11.085170</td>\n",
       "      <td>10.818150</td>\n",
       "      <td>10.014264</td>\n",
       "      <td>4.352302</td>\n",
       "      <td>3.094549</td>\n",
       "      <td>9.307461</td>\n",
       "      <td>5.784468</td>\n",
       "      <td>...</td>\n",
       "      <td>2.979297</td>\n",
       "      <td>2.987622</td>\n",
       "      <td>1.419679</td>\n",
       "      <td>8.418476</td>\n",
       "      <td>16.750061</td>\n",
       "      <td>10.517926</td>\n",
       "      <td>10.878186</td>\n",
       "      <td>7.287836</td>\n",
       "      <td>4.912917</td>\n",
       "      <td>2.877128</td>\n",
       "    </tr>\n",
       "    <tr>\n",
       "      <th>min</th>\n",
       "      <td>0.000000</td>\n",
       "      <td>0.000000</td>\n",
       "      <td>0.000000</td>\n",
       "      <td>0.000000</td>\n",
       "      <td>0.000000</td>\n",
       "      <td>0.000000</td>\n",
       "      <td>0.000000</td>\n",
       "      <td>0.000000</td>\n",
       "      <td>0.000000</td>\n",
       "      <td>0.000000</td>\n",
       "      <td>...</td>\n",
       "      <td>14.900000</td>\n",
       "      <td>14.000000</td>\n",
       "      <td>10.100000</td>\n",
       "      <td>0.180000</td>\n",
       "      <td>6.750000</td>\n",
       "      <td>11.830000</td>\n",
       "      <td>27.950000</td>\n",
       "      <td>32.830000</td>\n",
       "      <td>0.000000</td>\n",
       "      <td>0.000000</td>\n",
       "    </tr>\n",
       "    <tr>\n",
       "      <th>25%</th>\n",
       "      <td>0.059637</td>\n",
       "      <td>0.000000</td>\n",
       "      <td>13.028172</td>\n",
       "      <td>14.849760</td>\n",
       "      <td>10.962714</td>\n",
       "      <td>11.263372</td>\n",
       "      <td>3.178625</td>\n",
       "      <td>1.321875</td>\n",
       "      <td>7.804361</td>\n",
       "      <td>4.035401</td>\n",
       "      <td>...</td>\n",
       "      <td>24.300000</td>\n",
       "      <td>18.700000</td>\n",
       "      <td>12.000000</td>\n",
       "      <td>2.060000</td>\n",
       "      <td>50.110000</td>\n",
       "      <td>44.995000</td>\n",
       "      <td>72.060000</td>\n",
       "      <td>85.200000</td>\n",
       "      <td>0.360000</td>\n",
       "      <td>0.000000</td>\n",
       "    </tr>\n",
       "    <tr>\n",
       "      <th>50%</th>\n",
       "      <td>0.174864</td>\n",
       "      <td>0.246375</td>\n",
       "      <td>19.671660</td>\n",
       "      <td>20.403544</td>\n",
       "      <td>15.265651</td>\n",
       "      <td>15.148790</td>\n",
       "      <td>4.609183</td>\n",
       "      <td>2.061458</td>\n",
       "      <td>11.538643</td>\n",
       "      <td>5.975182</td>\n",
       "      <td>...</td>\n",
       "      <td>26.100000</td>\n",
       "      <td>21.000000</td>\n",
       "      <td>12.800000</td>\n",
       "      <td>4.310000</td>\n",
       "      <td>64.490000</td>\n",
       "      <td>52.170000</td>\n",
       "      <td>79.490000</td>\n",
       "      <td>90.030000</td>\n",
       "      <td>1.220000</td>\n",
       "      <td>0.000000</td>\n",
       "    </tr>\n",
       "    <tr>\n",
       "      <th>75%</th>\n",
       "      <td>0.451538</td>\n",
       "      <td>0.572450</td>\n",
       "      <td>28.419993</td>\n",
       "      <td>28.431639</td>\n",
       "      <td>21.627486</td>\n",
       "      <td>20.728802</td>\n",
       "      <td>6.848011</td>\n",
       "      <td>3.074479</td>\n",
       "      <td>16.321292</td>\n",
       "      <td>8.412409</td>\n",
       "      <td>...</td>\n",
       "      <td>28.000000</td>\n",
       "      <td>23.100000</td>\n",
       "      <td>13.700000</td>\n",
       "      <td>9.250000</td>\n",
       "      <td>74.855000</td>\n",
       "      <td>58.740000</td>\n",
       "      <td>85.135000</td>\n",
       "      <td>93.010000</td>\n",
       "      <td>3.365000</td>\n",
       "      <td>0.000000</td>\n",
       "    </tr>\n",
       "    <tr>\n",
       "      <th>max</th>\n",
       "      <td>100.000000</td>\n",
       "      <td>100.000000</td>\n",
       "      <td>100.000000</td>\n",
       "      <td>100.000000</td>\n",
       "      <td>100.000000</td>\n",
       "      <td>100.000000</td>\n",
       "      <td>100.000000</td>\n",
       "      <td>100.000000</td>\n",
       "      <td>100.000000</td>\n",
       "      <td>100.000000</td>\n",
       "      <td>...</td>\n",
       "      <td>35.100000</td>\n",
       "      <td>32.700000</td>\n",
       "      <td>23.400000</td>\n",
       "      <td>60.400000</td>\n",
       "      <td>93.140000</td>\n",
       "      <td>78.560000</td>\n",
       "      <td>96.590000</td>\n",
       "      <td>99.900000</td>\n",
       "      <td>54.330000</td>\n",
       "      <td>48.440000</td>\n",
       "    </tr>\n",
       "  </tbody>\n",
       "</table>\n",
       "<p>8 rows × 102 columns</p>\n",
       "</div>"
      ],
      "text/plain": [
       "        population    numbUrban    medIncome    medFamInc    perCapInc  \\\n",
       "count  2215.000000  2215.000000  2215.000000  2215.000000  2215.000000   \n",
       "mean      0.589575     0.651885    21.888215    22.876343    17.853310   \n",
       "std       2.798203     2.807851    11.698150    11.085170    10.818150   \n",
       "min       0.000000     0.000000     0.000000     0.000000     0.000000   \n",
       "25%       0.059637     0.000000    13.028172    14.849760    10.962714   \n",
       "50%       0.174864     0.246375    19.671660    20.403544    15.265651   \n",
       "75%       0.451538     0.572450    28.419993    28.431639    21.627486   \n",
       "max     100.000000   100.000000   100.000000   100.000000   100.000000   \n",
       "\n",
       "       whitePerCap  blackPerCap  indianPerCap  AsianPerCap  OtherPerCap  \\\n",
       "count  2215.000000  2215.000000   2215.000000  2215.000000  2215.000000   \n",
       "mean     17.507177     5.441142      2.547748    13.401770     6.892115   \n",
       "std      10.014264     4.352302      3.094549     9.307461     5.784468   \n",
       "min       0.000000     0.000000      0.000000     0.000000     0.000000   \n",
       "25%      11.263372     3.178625      1.321875     7.804361     4.035401   \n",
       "50%      15.148790     4.609183      2.061458    11.538643     5.975182   \n",
       "75%      20.728802     6.848011      3.074479    16.321292     8.412409   \n",
       "max     100.000000   100.000000    100.000000   100.000000   100.000000   \n",
       "\n",
       "              ...           MedRentPctHousInc  MedOwnCostPctInc  \\\n",
       "count         ...                 2215.000000       2215.000000   \n",
       "mean          ...                   26.298104         20.990158   \n",
       "std           ...                    2.979297          2.987622   \n",
       "min           ...                   14.900000         14.000000   \n",
       "25%           ...                   24.300000         18.700000   \n",
       "50%           ...                   26.100000         21.000000   \n",
       "75%           ...                   28.000000         23.100000   \n",
       "max           ...                   35.100000         32.700000   \n",
       "\n",
       "       MedOwnCostPctIncNoMtg  PctForeignBorn  PctBornSameState  \\\n",
       "count            2215.000000     2215.000000       2215.000000   \n",
       "mean               13.010203        7.340302         61.539630   \n",
       "std                 1.419679        8.418476         16.750061   \n",
       "min                10.100000        0.180000          6.750000   \n",
       "25%                12.000000        2.060000         50.110000   \n",
       "50%                12.800000        4.310000         64.490000   \n",
       "75%                13.700000        9.250000         74.855000   \n",
       "max                23.400000       60.400000         93.140000   \n",
       "\n",
       "       PctSameHouse85  PctSameCity85  PctSameState85  PctUsePubTrans  \\\n",
       "count     2215.000000    2215.000000     2215.000000     2215.000000   \n",
       "mean        51.538596      77.411079       88.111865        3.041124   \n",
       "std         10.517926      10.878186        7.287836        4.912917   \n",
       "min         11.830000      27.950000       32.830000        0.000000   \n",
       "25%         44.995000      72.060000       85.200000        0.360000   \n",
       "50%         52.170000      79.490000       90.030000        1.220000   \n",
       "75%         58.740000      85.135000       93.010000        3.365000   \n",
       "max         78.560000      96.590000       99.900000       54.330000   \n",
       "\n",
       "       LemasPctOfficDrugUn  \n",
       "count          2215.000000  \n",
       "mean              0.980163  \n",
       "std               2.877128  \n",
       "min               0.000000  \n",
       "25%               0.000000  \n",
       "50%               0.000000  \n",
       "75%               0.000000  \n",
       "max              48.440000  \n",
       "\n",
       "[8 rows x 102 columns]"
      ]
     },
     "execution_count": 45,
     "metadata": {},
     "output_type": "execute_result"
    }
   ],
   "source": [
    "crimes_scaled_preds_df = pred_scaled_df\n",
    "crimes_scaled_preds_df.describe()"
   ]
  },
  {
   "cell_type": "markdown",
   "metadata": {},
   "source": [
    "### In-Class Exercise 2 \n",
    "\n",
    "- Get two tSNE components for the scaled predictors using the default values for the hyperparameters\n",
    "- Plot the observations in these components\n",
    "- Plot the observations in these components with the violent crimes cut using the box plot statistics\n",
    "- Plot the observations in these components with the nonviolent crimes cut using the box plot statistics\n",
    "- Plot the observations in these components with one of the other response variables"
   ]
  },
  {
   "cell_type": "code",
   "execution_count": 43,
   "metadata": {
    "collapsed": true
   },
   "outputs": [],
   "source": [
    "# tsne \n",
    "\n",
    "# Get two components for plotting\n",
    "components = 2\n",
    "\n",
    "tsne = TSNE(n_components= components, init='random',\n",
    "                         random_state=42)\n",
    "\n",
    "crimes_tsne = tsne.fit_transform(crimes_scaled_preds_df)"
   ]
  },
  {
   "cell_type": "code",
   "execution_count": 44,
   "metadata": {},
   "outputs": [
    {
     "data": {
      "text/plain": [
       "<matplotlib.collections.PathCollection at 0x11e527e90>"
      ]
     },
     "execution_count": 44,
     "metadata": {},
     "output_type": "execute_result"
    },
    {
     "data": {
      "image/png": "[encoded data removed]",
      "text/plain": [
       "<matplotlib.figure.Figure at 0x11ca796d0>"
      ]
     },
     "metadata": {},
     "output_type": "display_data"
    }
   ],
   "source": [
    "plt.scatter(crimes_tsne[:,0], crimes_tsne[:,1])"
   ]
  },
  {
   "cell_type": "code",
   "execution_count": 46,
   "metadata": {},
   "outputs": [
    {
     "name": "stdout",
     "output_type": "stream",
     "text": [
      "[0.0, 185.28, 374.06, 722.0, 1523.9200000000001]\n"
     ]
    },
    {
     "data": {
      "image/png": "[encoded data removed]",
      "text/plain": [
       "<matplotlib.figure.Figure at 0x110f460d0>"
      ]
     },
     "metadata": {},
     "output_type": "display_data"
    }
   ],
   "source": [
    "# Doing the first two PC scatterplots with ViolentCrimesPerPop as the binned response\n",
    "violent_box = crime_resp_df.boxplot(column = 'ViolentCrimesPerPop',\n",
    "                                   return_type = 'dict', sym = 'b')\n",
    "\n",
    "violent_box_bounds = [violent_box['whiskers'][0].get_ydata()[1], # lower whisker\n",
    "                    violent_box['boxes'][0].get_ydata()[0],      # lower box 25%\n",
    "                    violent_box['medians'][0].get_ydata()[0],    # median\n",
    "                    violent_box['boxes'][0].get_ydata()[2],      # upper box 75%\n",
    "                    violent_box['whiskers'][1].get_ydata()[1]]   # upper whisker\n",
    "\n",
    "print(violent_box_bounds)"
   ]
  },
  {
   "cell_type": "code",
   "execution_count": 49,
   "metadata": {
    "collapsed": true
   },
   "outputs": [],
   "source": [
    "# Now need to make a new column to correctly take care \n",
    "# of each of these boundary points and label our data by violent crime rates\n",
    "crime_levels = ['Great', 'Okay', 'Neutral', 'Bad', 'Abyssmal']\n",
    "\n",
    "# And now bin the data\n",
    "bins = violent_box_bounds\n",
    "bins.append(crime_resp_df['ViolentCrimesPerPop'].max())"
   ]
  },
  {
   "cell_type": "code",
   "execution_count": 50,
   "metadata": {
    "collapsed": true
   },
   "outputs": [],
   "source": [
    "# Now use pd.cut to break the Violent Crimes into the different labels that we created above based on their bins\n",
    "Violent = pd.cut(crime_resp_df['ViolentCrimesPerPop'], bins, labels = crime_levels)"
   ]
  },
  {
   "cell_type": "code",
   "execution_count": 52,
   "metadata": {},
   "outputs": [
    {
     "data": {
      "text/plain": [
       "<matplotlib.text.Text at 0x11cc6b150>"
      ]
     },
     "execution_count": 52,
     "metadata": {},
     "output_type": "execute_result"
    },
    {
     "data": {
      "image/png": "[encoded data removed]",
      "text/plain": [
       "<matplotlib.figure.Figure at 0x11c81bd90>"
      ]
     },
     "metadata": {},
     "output_type": "display_data"
    }
   ],
   "source": [
    "# PCA plot with labels for Violent Crime levels\n",
    "colors = ['navy', 'green', 'darkorange', 'pink', 'red']\n",
    "\n",
    "fig, ax = plt.subplots()\n",
    "for i, color in  zip(crime_levels, colors):\n",
    "        ax.scatter(crimes_tsne[Violent == i, 0],\n",
    "                   crimes_tsne[Violent == i, 1], c = color, label=i)\n",
    "\n",
    "\n",
    "ax.legend(loc = 3)\n",
    "ax.grid(True)\n",
    "plt.xlabel(\"Component 1\")\n",
    "plt.ylabel(\"Component 2\")\n",
    "plt.title('Principal Component Plot of the Predictor Variables with Violent Crime Rate')\n"
   ]
  },
  {
   "cell_type": "markdown",
   "metadata": {},
   "source": [
    "### In-Class Exercise 3 \n",
    "\n",
    "- Get two tSNE components for the scaled predictors using perplexity values of 5 and 100\n",
    "- Plot the observations in these components\n",
    "- Plot the observations in these components with the violent crimes cut using the box plot statistics\n",
    "- Plot the observations in these components with the nonviolent crimes cut using the box plot statistics\n",
    "- Plot the observations in these components with one of the other response variables"
   ]
  },
  {
   "cell_type": "code",
   "execution_count": 53,
   "metadata": {
    "collapsed": true
   },
   "outputs": [],
   "source": [
    "# tsne \n",
    "\n",
    "# Get two components for plotting\n",
    "components = 2\n",
    "\n",
    "tsne = TSNE(n_components= components, init='random',\n",
    "                         random_state=42, perplexity = 5)\n",
    "\n",
    "crimes_tsne = tsne.fit_transform(crimes_scaled_preds_df)"
   ]
  },
  {
   "cell_type": "code",
   "execution_count": 54,
   "metadata": {},
   "outputs": [
    {
     "data": {
      "text/plain": [
       "<matplotlib.collections.PathCollection at 0x11e706090>"
      ]
     },
     "execution_count": 54,
     "metadata": {},
     "output_type": "execute_result"
    },
    {
     "data": {
      "image/png": "[encoded data removed]",
      "text/plain": [
       "<matplotlib.figure.Figure at 0x11d278550>"
      ]
     },
     "metadata": {},
     "output_type": "display_data"
    }
   ],
   "source": [
    "plt.scatter(crimes_tsne[:,0], crimes_tsne[:,1])"
   ]
  },
  {
   "cell_type": "code",
   "execution_count": 55,
   "metadata": {},
   "outputs": [
    {
     "data": {
      "text/plain": [
       "<matplotlib.text.Text at 0x11e57b610>"
      ]
     },
     "execution_count": 55,
     "metadata": {},
     "output_type": "execute_result"
    },
    {
     "data": {
      "image/png": "[encoded data removed]",
      "text/plain": [
       "<matplotlib.figure.Figure at 0x11e0a9790>"
      ]
     },
     "metadata": {},
     "output_type": "display_data"
    }
   ],
   "source": [
    "# PCA plot with labels for Violent Crime levels\n",
    "colors = ['navy', 'green', 'darkorange', 'pink', 'red']\n",
    "\n",
    "fig, ax = plt.subplots()\n",
    "for i, color in  zip(crime_levels, colors):\n",
    "        ax.scatter(crimes_tsne[Violent == i, 0],\n",
    "                   crimes_tsne[Violent == i, 1], c = color, label=i)\n",
    "\n",
    "\n",
    "ax.legend(loc = 3)\n",
    "ax.grid(True)\n",
    "plt.xlabel(\"Component 1\")\n",
    "plt.ylabel(\"Component 2\")\n",
    "plt.title('Principal Component Plot of the Predictor Variables with Violent Crime Rate')\n"
   ]
  },
  {
   "cell_type": "code",
   "execution_count": 56,
   "metadata": {
    "collapsed": true
   },
   "outputs": [],
   "source": [
    "# tsne \n",
    "\n",
    "# Get two components for plotting\n",
    "components = 2\n",
    "\n",
    "tsne = TSNE(n_components= components, init='random',\n",
    "                         random_state=42, perplexity = 100)\n",
    "\n",
    "crimes_tsne = tsne.fit_transform(crimes_scaled_preds_df)"
   ]
  },
  {
   "cell_type": "code",
   "execution_count": 57,
   "metadata": {},
   "outputs": [
    {
     "data": {
      "text/plain": [
       "<matplotlib.collections.PathCollection at 0x11e633b90>"
      ]
     },
     "execution_count": 57,
     "metadata": {},
     "output_type": "execute_result"
    },
    {
     "data": {
      "image/png": "[encoded data removed]",
      "text/plain": [
       "<matplotlib.figure.Figure at 0x11e48eb10>"
      ]
     },
     "metadata": {},
     "output_type": "display_data"
    }
   ],
   "source": [
    "plt.scatter(crimes_tsne[:,0], crimes_tsne[:,1])"
   ]
  },
  {
   "cell_type": "code",
   "execution_count": 58,
   "metadata": {},
   "outputs": [
    {
     "data": {
      "text/plain": [
       "<matplotlib.text.Text at 0x11e8f3850>"
      ]
     },
     "execution_count": 58,
     "metadata": {},
     "output_type": "execute_result"
    },
    {
     "data": {
      "image/png": "[encoded data removed]",
      "text/plain": [
       "<matplotlib.figure.Figure at 0x11e48e710>"
      ]
     },
     "metadata": {},
     "output_type": "display_data"
    }
   ],
   "source": [
    "# PCA plot with labels for Violent Crime levels\n",
    "colors = ['navy', 'green', 'darkorange', 'pink', 'red']\n",
    "\n",
    "fig, ax = plt.subplots()\n",
    "for i, color in  zip(crime_levels, colors):\n",
    "        ax.scatter(crimes_tsne[Violent == i, 0],\n",
    "                   crimes_tsne[Violent == i, 1], c = color, label=i)\n",
    "\n",
    "\n",
    "ax.legend(loc = 3)\n",
    "ax.grid(True)\n",
    "plt.xlabel(\"Component 1\")\n",
    "plt.ylabel(\"Component 2\")\n",
    "plt.title('Principal Component Plot of the Predictor Variables with Violent Crime Rate')\n"
   ]
  },
  {
   "cell_type": "markdown",
   "metadata": {
    "collapsed": true
   },
   "source": [
    "### In-Class Exercise 4 \n",
    "\n",
    "- Get two tSNE components for the scaled predictors with log transformations using at least two different values for the hyperparameters\n",
    "- Plot the observations in these components\n",
    "- Plot the observations in these components with the violent crimes cut using the box plot statistics\n",
    "- Plot the observations in these components with the nonviolent crimes cut using the box plot statistics\n",
    "- Plot the observations in these components with one of the other response variables\n",
    "\n",
    "So you can use linear PCAs to bring a hyperplane transformation to the data. In addition you can use non-linear tSNE transformations to look at the underlying nonlinear relationship in the data"
   ]
  },
  {
   "cell_type": "markdown",
   "metadata": {},
   "source": [
    "### In-Class Exercise 5\n",
    "\n",
    "- Insert a principal component and comparable t-SNE plot\n",
    "- Compare and contrast these two plots using criteria of your choosing"
   ]
  }
 ],
 "metadata": {
  "kernelspec": {
   "display_name": "Python 2",
   "language": "python",
   "name": "python2"
  },
  "language_info": {
   "codemirror_mode": {
    "name": "ipython",
    "version": 2
   },
   "file_extension": ".py",
   "mimetype": "text/x-python",
   "name": "python",
   "nbconvert_exporter": "python",
   "pygments_lexer": "ipython2",
   "version": "2.7.13"
  }
 },
 "nbformat": 4,
 "nbformat_minor": 2
}
